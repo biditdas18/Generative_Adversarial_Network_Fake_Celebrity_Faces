{
  "nbformat": 4,
  "nbformat_minor": 0,
  "metadata": {
    "colab": {
      "name": "covid_Train_model.ipynb",
      "provenance": [],
      "collapsed_sections": [],
      "mount_file_id": "1Nb79xLt3Dx1laZH2HNiI2HF6T_WEMARf",
      "authorship_tag": "ABX9TyN72pxZdZyOpKKZlom7K1zb",
      "include_colab_link": true
    },
    "kernelspec": {
      "name": "python3",
      "display_name": "Python 3"
    },
    "accelerator": "GPU"
  },
  "cells": [
    {
      "cell_type": "markdown",
      "metadata": {
        "id": "view-in-github",
        "colab_type": "text"
      },
      "source": [
        "<a href=\"https://colab.research.google.com/github/biditdas18/Generative_Adversarial_Network_Fake_Celebrity_Faces/blob/master/covid_Train_model.ipynb\" target=\"_parent\"><img src=\"https://colab.research.google.com/assets/colab-badge.svg\" alt=\"Open In Colab\"/></a>"
      ]
    },
    {
      "cell_type": "code",
      "metadata": {
        "id": "Y1dvqqXVIadA",
        "colab_type": "code",
        "colab": {
          "base_uri": "https://localhost:8080/",
          "height": 34
        },
        "outputId": "59631dc2-d2ba-4a63-cec3-64e467f3429f"
      },
      "source": [
        "cd /content/drive/My Drive/covid detection"
      ],
      "execution_count": null,
      "outputs": [
        {
          "output_type": "stream",
          "text": [
            "/content/drive/My Drive/covid detection\n"
          ],
          "name": "stdout"
        }
      ]
    },
    {
      "cell_type": "code",
      "metadata": {
        "id": "mdeqz9c9IzzU",
        "colab_type": "code",
        "colab": {
          "base_uri": "https://localhost:8080/",
          "height": 34
        },
        "outputId": "d7c4aefc-e4a8-4a17-81a0-7386be2dcb47"
      },
      "source": [
        "pwd"
      ],
      "execution_count": null,
      "outputs": [
        {
          "output_type": "execute_result",
          "data": {
            "text/plain": [
              "'/content/drive/My Drive/covid detection'"
            ]
          },
          "metadata": {
            "tags": []
          },
          "execution_count": 55
        }
      ]
    },
    {
      "cell_type": "code",
      "metadata": {
        "id": "n0Rw6IT_I0xm",
        "colab_type": "code",
        "colab": {
          "base_uri": "https://localhost:8080/",
          "height": 34
        },
        "outputId": "8f707d1b-27f5-446e-faf1-443eb022c57b"
      },
      "source": [
        "!ls"
      ],
      "execution_count": null,
      "outputs": [
        {
          "output_type": "stream",
          "text": [
            "covid_model.h5\tcovid_Train_model.ipynb  data\n"
          ],
          "name": "stdout"
        }
      ]
    },
    {
      "cell_type": "code",
      "metadata": {
        "id": "CQVR3lx8JEqp",
        "colab_type": "code",
        "colab": {}
      },
      "source": [
        "import argparse\n",
        "from imutils import paths\n",
        "import tensorflow as tf\n",
        "from tensorflow.keras.layers import Input,Dense,Flatten, MaxPooling2D, Dropout, AveragePooling2D\n",
        "from tensorflow.keras.applications.vgg16 import VGG16 as PretrainedModel,\\\n",
        "    preprocess_input\n",
        "from tensorflow.keras.models import Model\n",
        "from tensorflow.keras.optimizers import SGD,Adam\n",
        "from tensorflow.keras.preprocessing import image\n",
        "from tensorflow.keras.preprocessing.image import ImageDataGenerator\n",
        "from tensorflow.keras.utils import to_categorical\n",
        "from sklearn.preprocessing import LabelBinarizer\n",
        "from sklearn.model_selection import train_test_split\n",
        "from sklearn.metrics import classification_report, confusion_matrix\n",
        "\n",
        "\n",
        "from glob import glob\n",
        "\n",
        "import numpy as np\n",
        "import pandas as pd\n",
        "import cv2\n",
        "import matplotlib.pyplot as plt\n",
        "import sys,os"
      ],
      "execution_count": null,
      "outputs": []
    },
    {
      "cell_type": "code",
      "metadata": {
        "id": "y0U0k6NMI2p2",
        "colab_type": "code",
        "colab": {}
      },
      "source": [
        "# Grab the list of images in the data directory and initialize the data list\n",
        "# and the class labels list\n",
        "imagePaths = list(paths.list_images('data'))\n",
        "data = []\n",
        "labels = []"
      ],
      "execution_count": null,
      "outputs": []
    },
    {
      "cell_type": "code",
      "metadata": {
        "id": "ahwZm4FII_xv",
        "colab_type": "code",
        "colab": {
          "base_uri": "https://localhost:8080/",
          "height": 1000
        },
        "outputId": "4dc9b8f4-d4f9-463d-e75e-4f51abcc1048"
      },
      "source": [
        "# loop over the image paths\n",
        "for imagePath in imagePaths:\n",
        "    label = imagePath.split(os.path.sep)[-2]\n",
        "\n",
        "    image = cv2.imread(imagePath)\n",
        "    image = cv2.cvtColor(image,cv2.COLOR_BGR2RGB)\n",
        "    image = cv2.resize(image,(224,224))\n",
        "\n",
        "    data.append(image)\n",
        "    labels.append(label)\n",
        "\n",
        "data = np.array(data)/255.0\n",
        "labels = np.array(labels)\n",
        "labels"
      ],
      "execution_count": null,
      "outputs": [
        {
          "output_type": "execute_result",
          "data": {
            "text/plain": [
              "array(['normal_chestxray', 'normal_chestxray', 'normal_chestxray',\n",
              "       'normal_chestxray', 'normal_chestxray', 'normal_chestxray',\n",
              "       'normal_chestxray', 'normal_chestxray', 'normal_chestxray',\n",
              "       'normal_chestxray', 'normal_chestxray', 'normal_chestxray',\n",
              "       'normal_chestxray', 'normal_chestxray', 'normal_chestxray',\n",
              "       'normal_chestxray', 'normal_chestxray', 'normal_chestxray',\n",
              "       'normal_chestxray', 'normal_chestxray', 'normal_chestxray',\n",
              "       'normal_chestxray', 'normal_chestxray', 'normal_chestxray',\n",
              "       'normal_chestxray', 'normal_chestxray', 'normal_chestxray',\n",
              "       'normal_chestxray', 'normal_chestxray', 'normal_chestxray',\n",
              "       'normal_chestxray', 'normal_chestxray', 'normal_chestxray',\n",
              "       'normal_chestxray', 'normal_chestxray', 'normal_chestxray',\n",
              "       'normal_chestxray', 'normal_chestxray', 'normal_chestxray',\n",
              "       'normal_chestxray', 'normal_chestxray', 'normal_chestxray',\n",
              "       'normal_chestxray', 'normal_chestxray', 'normal_chestxray',\n",
              "       'normal_chestxray', 'normal_chestxray', 'normal_chestxray',\n",
              "       'normal_chestxray', 'normal_chestxray', 'normal_chestxray',\n",
              "       'normal_chestxray', 'normal_chestxray', 'normal_chestxray',\n",
              "       'normal_chestxray', 'normal_chestxray', 'normal_chestxray',\n",
              "       'normal_chestxray', 'normal_chestxray', 'normal_chestxray',\n",
              "       'normal_chestxray', 'normal_chestxray', 'normal_chestxray',\n",
              "       'normal_chestxray', 'normal_chestxray', 'normal_chestxray',\n",
              "       'normal_chestxray', 'normal_chestxray', 'normal_chestxray',\n",
              "       'normal_chestxray', 'normal_chestxray', 'normal_chestxray',\n",
              "       'normal_chestxray', 'normal_chestxray', 'normal_chestxray',\n",
              "       'normal_chestxray', 'normal_chestxray', 'normal_chestxray',\n",
              "       'normal_chestxray', 'normal_chestxray', 'normal_chestxray',\n",
              "       'normal_chestxray', 'normal_chestxray', 'normal_chestxray',\n",
              "       'normal_chestxray', 'normal_chestxray', 'normal_chestxray',\n",
              "       'normal_chestxray', 'normal_chestxray', 'normal_chestxray',\n",
              "       'normal_chestxray', 'normal_chestxray', 'normal_chestxray',\n",
              "       'normal_chestxray', 'normal_chestxray', 'normal_chestxray',\n",
              "       'normal_chestxray', 'normal_chestxray', 'normal_chestxray',\n",
              "       'normal_chestxray', 'normal_chestxray', 'normal_chestxray',\n",
              "       'normal_chestxray', 'normal_chestxray', 'normal_chestxray',\n",
              "       'normal_chestxray', 'normal_chestxray', 'normal_chestxray',\n",
              "       'normal_chestxray', 'normal_chestxray', 'normal_chestxray',\n",
              "       'normal_chestxray', 'normal_chestxray', 'normal_chestxray',\n",
              "       'normal_chestxray', 'normal_chestxray', 'normal_chestxray',\n",
              "       'normal_chestxray', 'normal_chestxray', 'normal_chestxray',\n",
              "       'normal_chestxray', 'normal_chestxray', 'normal_chestxray',\n",
              "       'normal_chestxray', 'normal_chestxray', 'normal_chestxray',\n",
              "       'normal_chestxray', 'normal_chestxray', 'normal_chestxray',\n",
              "       'normal_chestxray', 'normal_chestxray', 'normal_chestxray',\n",
              "       'normal_chestxray', 'normal_chestxray', 'normal_chestxray',\n",
              "       'normal_chestxray', 'normal_chestxray', 'normal_chestxray',\n",
              "       'normal_chestxray', 'normal_chestxray', 'normal_chestxray',\n",
              "       'normal_chestxray', 'normal_chestxray', 'normal_chestxray',\n",
              "       'normal_chestxray', 'normal_chestxray', 'normal_chestxray',\n",
              "       'normal_chestxray', 'normal_chestxray', 'normal_chestxray',\n",
              "       'normal_chestxray', 'normal_chestxray', 'normal_chestxray',\n",
              "       'normal_chestxray', 'normal_chestxray', 'normal_chestxray',\n",
              "       'normal_chestxray', 'normal_chestxray', 'normal_chestxray',\n",
              "       'normal_chestxray', 'normal_chestxray', 'normal_chestxray',\n",
              "       'normal_chestxray', 'normal_chestxray', 'normal_chestxray',\n",
              "       'normal_chestxray', 'normal_chestxray', 'normal_chestxray',\n",
              "       'normal_chestxray', 'normal_chestxray', 'normal_chestxray',\n",
              "       'normal_chestxray', 'normal_chestxray', 'normal_chestxray',\n",
              "       'normal_chestxray', 'normal_chestxray', 'normal_chestxray',\n",
              "       'normal_chestxray', 'normal_chestxray', 'normal_chestxray',\n",
              "       'normal_chestxray', 'normal_chestxray', 'normal_chestxray',\n",
              "       'normal_chestxray', 'normal_chestxray', 'normal_chestxray',\n",
              "       'normal_chestxray', 'normal_chestxray', 'normal_chestxray',\n",
              "       'normal_chestxray', 'normal_chestxray', 'normal_chestxray',\n",
              "       'normal_chestxray', 'normal_chestxray', 'normal_chestxray',\n",
              "       'normal_chestxray', 'normal_chestxray', 'normal_chestxray',\n",
              "       'normal_chestxray', 'normal_chestxray', 'normal_chestxray',\n",
              "       'normal_chestxray', 'normal_chestxray', 'normal_chestxray',\n",
              "       'normal_chestxray', 'normal_chestxray', 'normal_chestxray',\n",
              "       'normal_chestxray', 'normal_chestxray', 'normal_chestxray',\n",
              "       'normal_chestxray', 'normal_chestxray', 'covid_xrays',\n",
              "       'covid_xrays', 'covid_xrays', 'covid_xrays', 'covid_xrays',\n",
              "       'covid_xrays', 'covid_xrays', 'covid_xrays', 'covid_xrays',\n",
              "       'covid_xrays', 'covid_xrays', 'covid_xrays', 'covid_xrays',\n",
              "       'covid_xrays', 'covid_xrays', 'covid_xrays', 'covid_xrays',\n",
              "       'covid_xrays', 'covid_xrays', 'covid_xrays', 'covid_xrays',\n",
              "       'covid_xrays', 'covid_xrays', 'covid_xrays', 'covid_xrays',\n",
              "       'covid_xrays', 'covid_xrays', 'covid_xrays', 'covid_xrays',\n",
              "       'covid_xrays', 'covid_xrays', 'covid_xrays', 'covid_xrays',\n",
              "       'covid_xrays', 'covid_xrays', 'covid_xrays', 'covid_xrays',\n",
              "       'covid_xrays', 'covid_xrays', 'covid_xrays', 'covid_xrays',\n",
              "       'covid_xrays', 'covid_xrays', 'covid_xrays', 'covid_xrays',\n",
              "       'covid_xrays', 'covid_xrays', 'covid_xrays', 'covid_xrays',\n",
              "       'covid_xrays', 'covid_xrays', 'covid_xrays', 'covid_xrays',\n",
              "       'covid_xrays', 'covid_xrays', 'covid_xrays', 'covid_xrays',\n",
              "       'covid_xrays', 'covid_xrays', 'covid_xrays', 'covid_xrays',\n",
              "       'covid_xrays', 'covid_xrays', 'covid_xrays', 'covid_xrays',\n",
              "       'covid_xrays', 'covid_xrays', 'covid_xrays', 'covid_xrays',\n",
              "       'covid_xrays', 'covid_xrays', 'covid_xrays', 'covid_xrays',\n",
              "       'covid_xrays', 'covid_xrays', 'covid_xrays', 'covid_xrays',\n",
              "       'covid_xrays', 'covid_xrays', 'covid_xrays', 'covid_xrays',\n",
              "       'covid_xrays', 'covid_xrays', 'covid_xrays', 'covid_xrays',\n",
              "       'covid_xrays', 'covid_xrays', 'covid_xrays', 'covid_xrays',\n",
              "       'covid_xrays', 'covid_xrays', 'covid_xrays', 'covid_xrays',\n",
              "       'covid_xrays', 'covid_xrays', 'covid_xrays', 'covid_xrays',\n",
              "       'covid_xrays', 'covid_xrays', 'covid_xrays', 'covid_xrays',\n",
              "       'covid_xrays', 'covid_xrays', 'covid_xrays', 'covid_xrays',\n",
              "       'covid_xrays', 'covid_xrays', 'covid_xrays', 'covid_xrays',\n",
              "       'covid_xrays', 'covid_xrays', 'covid_xrays', 'covid_xrays',\n",
              "       'covid_xrays', 'covid_xrays', 'covid_xrays', 'covid_xrays',\n",
              "       'covid_xrays', 'covid_xrays', 'covid_xrays', 'covid_xrays',\n",
              "       'covid_xrays', 'covid_xrays', 'covid_xrays', 'covid_xrays',\n",
              "       'covid_xrays', 'covid_xrays', 'covid_xrays', 'covid_xrays',\n",
              "       'covid_xrays', 'covid_xrays', 'covid_xrays', 'covid_xrays',\n",
              "       'covid_xrays', 'covid_xrays', 'covid_xrays', 'covid_xrays',\n",
              "       'covid_xrays', 'covid_xrays', 'covid_xrays', 'covid_xrays',\n",
              "       'covid_xrays', 'covid_xrays', 'covid_xrays', 'covid_xrays',\n",
              "       'covid_xrays', 'covid_xrays', 'covid_xrays', 'covid_xrays',\n",
              "       'covid_xrays', 'covid_xrays', 'covid_xrays', 'covid_xrays',\n",
              "       'covid_xrays', 'covid_xrays', 'covid_xrays', 'covid_xrays',\n",
              "       'covid_xrays', 'covid_xrays', 'covid_xrays', 'covid_xrays',\n",
              "       'covid_xrays', 'covid_xrays', 'covid_xrays', 'covid_xrays',\n",
              "       'covid_xrays', 'covid_xrays', 'covid_xrays', 'covid_xrays',\n",
              "       'covid_xrays', 'covid_xrays', 'covid_xrays', 'covid_xrays',\n",
              "       'covid_xrays', 'covid_xrays', 'covid_xrays', 'covid_xrays',\n",
              "       'covid_xrays', 'covid_xrays', 'covid_xrays', 'covid_xrays',\n",
              "       'covid_xrays', 'covid_xrays', 'covid_xrays', 'covid_xrays',\n",
              "       'covid_xrays', 'covid_xrays', 'covid_xrays', 'covid_xrays',\n",
              "       'covid_xrays', 'covid_xrays', 'covid_xrays', 'covid_xrays',\n",
              "       'covid_xrays', 'covid_xrays', 'covid_xrays', 'covid_xrays',\n",
              "       'covid_xrays', 'covid_xrays', 'covid_xrays', 'covid_xrays',\n",
              "       'covid_xrays', 'covid_xrays', 'covid_xrays', 'covid_xrays',\n",
              "       'covid_xrays'], dtype='<U16')"
            ]
          },
          "metadata": {
            "tags": []
          },
          "execution_count": 59
        }
      ]
    },
    {
      "cell_type": "code",
      "metadata": {
        "id": "emLGyBYPNkjJ",
        "colab_type": "code",
        "colab": {}
      },
      "source": [
        "# perform one hot encoding of the labels\n",
        "lb = LabelBinarizer()\n",
        "labels = lb.fit_transform(labels)\n",
        "labels = to_categorical(labels)\n"
      ],
      "execution_count": null,
      "outputs": []
    },
    {
      "cell_type": "code",
      "metadata": {
        "id": "A17cO2E8Nr8V",
        "colab_type": "code",
        "colab": {}
      },
      "source": [
        "# partition the data into training and testing splits using 80% of the data for training\n",
        "# and the remaining 20% for testing\n",
        "(trainX, testX, trainY, testY) = train_test_split(data, labels, test_size=0.20, stratify=labels, random_state=42)\n",
        "\n",
        "# define the pretrained model\n",
        "ptm = PretrainedModel(\n",
        "    input_shape=(224,224,3),\n",
        "    weights = 'imagenet',\n",
        "    include_top = False\n",
        ")"
      ],
      "execution_count": null,
      "outputs": []
    },
    {
      "cell_type": "code",
      "metadata": {
        "id": "a5MWsLllNvlP",
        "colab_type": "code",
        "colab": {}
      },
      "source": [
        "# freeze pretrained model\n",
        "ptm.trainable = False"
      ],
      "execution_count": null,
      "outputs": []
    },
    {
      "cell_type": "code",
      "metadata": {
        "id": "-w_1BEArNyxg",
        "colab_type": "code",
        "colab": {
          "base_uri": "https://localhost:8080/",
          "height": 969
        },
        "outputId": "be91f0e1-2e64-4c98-dfc3-4889193bb774"
      },
      "source": [
        "# Keras image data generator returns classes one-hot encoded\n",
        "# define the model\n",
        "x = ptm.output\n",
        "x = AveragePooling2D(pool_size=(4,4))(x)\n",
        "x = Flatten()(x)\n",
        "x = Dense(64, activation='relu')(x)\n",
        "x = Dropout(0.5)(x)\n",
        "x = Dense(2, activation='softmax')(x)\n",
        "\n",
        "# create a model object\n",
        "model = Model(inputs=ptm.input, outputs=x)\n",
        "\n",
        "# view the structure of the model\n",
        "model.summary()"
      ],
      "execution_count": null,
      "outputs": [
        {
          "output_type": "stream",
          "text": [
            "Model: \"model_2\"\n",
            "_________________________________________________________________\n",
            "Layer (type)                 Output Shape              Param #   \n",
            "=================================================================\n",
            "input_4 (InputLayer)         [(None, 224, 224, 3)]     0         \n",
            "_________________________________________________________________\n",
            "block1_conv1 (Conv2D)        (None, 224, 224, 64)      1792      \n",
            "_________________________________________________________________\n",
            "block1_conv2 (Conv2D)        (None, 224, 224, 64)      36928     \n",
            "_________________________________________________________________\n",
            "block1_pool (MaxPooling2D)   (None, 112, 112, 64)      0         \n",
            "_________________________________________________________________\n",
            "block2_conv1 (Conv2D)        (None, 112, 112, 128)     73856     \n",
            "_________________________________________________________________\n",
            "block2_conv2 (Conv2D)        (None, 112, 112, 128)     147584    \n",
            "_________________________________________________________________\n",
            "block2_pool (MaxPooling2D)   (None, 56, 56, 128)       0         \n",
            "_________________________________________________________________\n",
            "block3_conv1 (Conv2D)        (None, 56, 56, 256)       295168    \n",
            "_________________________________________________________________\n",
            "block3_conv2 (Conv2D)        (None, 56, 56, 256)       590080    \n",
            "_________________________________________________________________\n",
            "block3_conv3 (Conv2D)        (None, 56, 56, 256)       590080    \n",
            "_________________________________________________________________\n",
            "block3_pool (MaxPooling2D)   (None, 28, 28, 256)       0         \n",
            "_________________________________________________________________\n",
            "block4_conv1 (Conv2D)        (None, 28, 28, 512)       1180160   \n",
            "_________________________________________________________________\n",
            "block4_conv2 (Conv2D)        (None, 28, 28, 512)       2359808   \n",
            "_________________________________________________________________\n",
            "block4_conv3 (Conv2D)        (None, 28, 28, 512)       2359808   \n",
            "_________________________________________________________________\n",
            "block4_pool (MaxPooling2D)   (None, 14, 14, 512)       0         \n",
            "_________________________________________________________________\n",
            "block5_conv1 (Conv2D)        (None, 14, 14, 512)       2359808   \n",
            "_________________________________________________________________\n",
            "block5_conv2 (Conv2D)        (None, 14, 14, 512)       2359808   \n",
            "_________________________________________________________________\n",
            "block5_conv3 (Conv2D)        (None, 14, 14, 512)       2359808   \n",
            "_________________________________________________________________\n",
            "block5_pool (MaxPooling2D)   (None, 7, 7, 512)         0         \n",
            "_________________________________________________________________\n",
            "average_pooling2d_2 (Average (None, 1, 1, 512)         0         \n",
            "_________________________________________________________________\n",
            "flatten_2 (Flatten)          (None, 512)               0         \n",
            "_________________________________________________________________\n",
            "dense_4 (Dense)              (None, 64)                32832     \n",
            "_________________________________________________________________\n",
            "dropout_2 (Dropout)          (None, 64)                0         \n",
            "_________________________________________________________________\n",
            "dense_5 (Dense)              (None, 2)                 130       \n",
            "=================================================================\n",
            "Total params: 14,747,650\n",
            "Trainable params: 32,962\n",
            "Non-trainable params: 14,714,688\n",
            "_________________________________________________________________\n"
          ],
          "name": "stdout"
        }
      ]
    },
    {
      "cell_type": "code",
      "metadata": {
        "id": "gzHfS6g1N3KK",
        "colab_type": "code",
        "colab": {}
      },
      "source": [
        "# create an instance of ImageDataGenerator\n",
        "gen_train = ImageDataGenerator(\n",
        "    rotation_range=20,\n",
        "    fill_mode = 'nearest',\n",
        ")\n",
        "\n",
        "# gen_test = ImageDataGenerator(\n",
        "#     preprocessing_function=preprocess_input\n",
        "# )"
      ],
      "execution_count": null,
      "outputs": []
    },
    {
      "cell_type": "code",
      "metadata": {
        "id": "YZDVMMd7N7Pg",
        "colab_type": "code",
        "colab": {}
      },
      "source": [
        "batch_size = 8\n",
        "\n",
        "# create generators\n",
        "train_generator = gen_train.flow(\n",
        "    trainX, trainY, shuffle=True, batch_size=batch_size)\n",
        "\n",
        "# valid_generator = gen_test.flow(\n",
        "#     testX,testY, batch_size=batch_size)\n",
        "LR = 0.001\n",
        "EPOCHS = 40\n",
        "opt = Adam(lr=LR, decay=0.001 / EPOCHS)\n",
        "model.compile(\n",
        "    loss = 'categorical_crossentropy',\n",
        "    optimizer= opt,\n",
        "    metrics=['accuracy']\n",
        ")"
      ],
      "execution_count": null,
      "outputs": []
    },
    {
      "cell_type": "code",
      "metadata": {
        "id": "TNda22GAOBWJ",
        "colab_type": "code",
        "colab": {
          "base_uri": "https://localhost:8080/",
          "height": 1000
        },
        "outputId": "cab15132-f2e6-41a5-85bb-cc5e27c6f997"
      },
      "source": [
        "# fit the model\n",
        "r = model.fit_generator(\n",
        "    train_generator,\n",
        "    validation_data=(testX,testY),\n",
        "    epochs=EPOCHS,\n",
        "    steps_per_epoch=int(np.ceil(len(trainX)/batch_size)),\n",
        "    validation_steps=int(np.ceil(len(testX)/batch_size))\n",
        ")"
      ],
      "execution_count": null,
      "outputs": [
        {
          "output_type": "stream",
          "text": [
            "Epoch 1/40\n",
            "42/42 [==============================] - 7s 165ms/step - loss: 0.6589 - accuracy: 0.6257 - val_loss: 0.4559 - val_accuracy: 0.9643\n",
            "Epoch 2/40\n",
            "42/42 [==============================] - 7s 159ms/step - loss: 0.3898 - accuracy: 0.8623 - val_loss: 0.3169 - val_accuracy: 0.9286\n",
            "Epoch 3/40\n",
            "42/42 [==============================] - 7s 159ms/step - loss: 0.2804 - accuracy: 0.9162 - val_loss: 0.2344 - val_accuracy: 0.9405\n",
            "Epoch 4/40\n",
            "42/42 [==============================] - 7s 161ms/step - loss: 0.2171 - accuracy: 0.9371 - val_loss: 0.2084 - val_accuracy: 0.9405\n",
            "Epoch 5/40\n",
            "42/42 [==============================] - 7s 162ms/step - loss: 0.1824 - accuracy: 0.9491 - val_loss: 0.1495 - val_accuracy: 0.9524\n",
            "Epoch 6/40\n",
            "42/42 [==============================] - 7s 161ms/step - loss: 0.1704 - accuracy: 0.9401 - val_loss: 0.1951 - val_accuracy: 0.9167\n",
            "Epoch 7/40\n",
            "42/42 [==============================] - 7s 161ms/step - loss: 0.1701 - accuracy: 0.9341 - val_loss: 0.1465 - val_accuracy: 0.9524\n",
            "Epoch 8/40\n",
            "42/42 [==============================] - 7s 162ms/step - loss: 0.1446 - accuracy: 0.9491 - val_loss: 0.1106 - val_accuracy: 0.9524\n",
            "Epoch 9/40\n",
            "42/42 [==============================] - 7s 160ms/step - loss: 0.1201 - accuracy: 0.9551 - val_loss: 0.0937 - val_accuracy: 0.9762\n",
            "Epoch 10/40\n",
            "42/42 [==============================] - 7s 160ms/step - loss: 0.1240 - accuracy: 0.9431 - val_loss: 0.1111 - val_accuracy: 0.9524\n",
            "Epoch 11/40\n",
            "42/42 [==============================] - 7s 159ms/step - loss: 0.0951 - accuracy: 0.9611 - val_loss: 0.0818 - val_accuracy: 0.9524\n",
            "Epoch 12/40\n",
            "42/42 [==============================] - 7s 160ms/step - loss: 0.0965 - accuracy: 0.9641 - val_loss: 0.1377 - val_accuracy: 0.9524\n",
            "Epoch 13/40\n",
            "42/42 [==============================] - 7s 159ms/step - loss: 0.1115 - accuracy: 0.9611 - val_loss: 0.1083 - val_accuracy: 0.9524\n",
            "Epoch 14/40\n",
            "42/42 [==============================] - 7s 160ms/step - loss: 0.0970 - accuracy: 0.9731 - val_loss: 0.0620 - val_accuracy: 0.9881\n",
            "Epoch 15/40\n",
            "42/42 [==============================] - 7s 159ms/step - loss: 0.0788 - accuracy: 0.9731 - val_loss: 0.0716 - val_accuracy: 0.9762\n",
            "Epoch 16/40\n",
            "42/42 [==============================] - 7s 159ms/step - loss: 0.0960 - accuracy: 0.9731 - val_loss: 0.0666 - val_accuracy: 0.9762\n",
            "Epoch 17/40\n",
            "42/42 [==============================] - 7s 159ms/step - loss: 0.0731 - accuracy: 0.9760 - val_loss: 0.0474 - val_accuracy: 0.9881\n",
            "Epoch 18/40\n",
            "42/42 [==============================] - 7s 160ms/step - loss: 0.0818 - accuracy: 0.9790 - val_loss: 0.0443 - val_accuracy: 0.9881\n",
            "Epoch 19/40\n",
            "42/42 [==============================] - 7s 160ms/step - loss: 0.0825 - accuracy: 0.9701 - val_loss: 0.0438 - val_accuracy: 0.9881\n",
            "Epoch 20/40\n",
            "42/42 [==============================] - 7s 159ms/step - loss: 0.0809 - accuracy: 0.9731 - val_loss: 0.0649 - val_accuracy: 0.9762\n",
            "Epoch 21/40\n",
            "42/42 [==============================] - 7s 160ms/step - loss: 0.0689 - accuracy: 0.9760 - val_loss: 0.0404 - val_accuracy: 0.9881\n",
            "Epoch 22/40\n",
            "42/42 [==============================] - 7s 159ms/step - loss: 0.0726 - accuracy: 0.9641 - val_loss: 0.0371 - val_accuracy: 0.9881\n",
            "Epoch 23/40\n",
            "42/42 [==============================] - 7s 159ms/step - loss: 0.0618 - accuracy: 0.9790 - val_loss: 0.0329 - val_accuracy: 0.9881\n",
            "Epoch 24/40\n",
            "42/42 [==============================] - 7s 159ms/step - loss: 0.0613 - accuracy: 0.9850 - val_loss: 0.0342 - val_accuracy: 0.9881\n",
            "Epoch 25/40\n",
            "42/42 [==============================] - 7s 161ms/step - loss: 0.0808 - accuracy: 0.9731 - val_loss: 0.0466 - val_accuracy: 0.9881\n",
            "Epoch 26/40\n",
            "42/42 [==============================] - 7s 162ms/step - loss: 0.0572 - accuracy: 0.9850 - val_loss: 0.0577 - val_accuracy: 0.9762\n",
            "Epoch 27/40\n",
            "42/42 [==============================] - 7s 160ms/step - loss: 0.0757 - accuracy: 0.9731 - val_loss: 0.0428 - val_accuracy: 0.9881\n",
            "Epoch 28/40\n",
            "42/42 [==============================] - 7s 160ms/step - loss: 0.0438 - accuracy: 0.9910 - val_loss: 0.0360 - val_accuracy: 0.9881\n",
            "Epoch 29/40\n",
            "42/42 [==============================] - 7s 159ms/step - loss: 0.0516 - accuracy: 0.9850 - val_loss: 0.0286 - val_accuracy: 0.9881\n",
            "Epoch 30/40\n",
            "42/42 [==============================] - 7s 163ms/step - loss: 0.0387 - accuracy: 0.9880 - val_loss: 0.0262 - val_accuracy: 0.9881\n",
            "Epoch 31/40\n",
            "42/42 [==============================] - 7s 160ms/step - loss: 0.0387 - accuracy: 0.9910 - val_loss: 0.0192 - val_accuracy: 1.0000\n",
            "Epoch 32/40\n",
            "42/42 [==============================] - 7s 160ms/step - loss: 0.0536 - accuracy: 0.9850 - val_loss: 0.0202 - val_accuracy: 1.0000\n",
            "Epoch 33/40\n",
            "42/42 [==============================] - 7s 161ms/step - loss: 0.0346 - accuracy: 0.9910 - val_loss: 0.0284 - val_accuracy: 0.9881\n",
            "Epoch 34/40\n",
            "42/42 [==============================] - 7s 160ms/step - loss: 0.0443 - accuracy: 0.9940 - val_loss: 0.0225 - val_accuracy: 1.0000\n",
            "Epoch 35/40\n",
            "42/42 [==============================] - 7s 161ms/step - loss: 0.0443 - accuracy: 0.9880 - val_loss: 0.0368 - val_accuracy: 0.9881\n",
            "Epoch 36/40\n",
            "42/42 [==============================] - 7s 159ms/step - loss: 0.0532 - accuracy: 0.9820 - val_loss: 0.0457 - val_accuracy: 0.9762\n",
            "Epoch 37/40\n",
            "42/42 [==============================] - 7s 160ms/step - loss: 0.0431 - accuracy: 0.9820 - val_loss: 0.0251 - val_accuracy: 1.0000\n",
            "Epoch 38/40\n",
            "42/42 [==============================] - 7s 159ms/step - loss: 0.0464 - accuracy: 0.9880 - val_loss: 0.0277 - val_accuracy: 0.9881\n",
            "Epoch 39/40\n",
            "42/42 [==============================] - 7s 160ms/step - loss: 0.0383 - accuracy: 0.9940 - val_loss: 0.0373 - val_accuracy: 0.9881\n",
            "Epoch 40/40\n",
            "42/42 [==============================] - 7s 161ms/step - loss: 0.0437 - accuracy: 0.9790 - val_loss: 0.0340 - val_accuracy: 0.9881\n"
          ],
          "name": "stdout"
        }
      ]
    },
    {
      "cell_type": "code",
      "metadata": {
        "id": "36Qu53rcOHQA",
        "colab_type": "code",
        "colab": {
          "base_uri": "https://localhost:8080/",
          "height": 34
        },
        "outputId": "1eef6f33-843b-4e3d-d07c-fbc977431f5f"
      },
      "source": [
        "# Predictions\n",
        "pred = model.predict(testX,batch_size=batch_size)\n",
        "pred.shape"
      ],
      "execution_count": null,
      "outputs": [
        {
          "output_type": "execute_result",
          "data": {
            "text/plain": [
              "(84, 2)"
            ]
          },
          "metadata": {
            "tags": []
          },
          "execution_count": 67
        }
      ]
    },
    {
      "cell_type": "code",
      "metadata": {
        "id": "uTIuQDfywXAI",
        "colab_type": "code",
        "colab": {
          "base_uri": "https://localhost:8080/",
          "height": 34
        },
        "outputId": "52ec159d-e8ac-421f-bbe4-8012f4d41d6a"
      },
      "source": [
        "trainX.shape"
      ],
      "execution_count": null,
      "outputs": [
        {
          "output_type": "execute_result",
          "data": {
            "text/plain": [
              "(334, 224, 224, 3)"
            ]
          },
          "metadata": {
            "tags": []
          },
          "execution_count": 68
        }
      ]
    },
    {
      "cell_type": "code",
      "metadata": {
        "id": "Y53JqMHFwXPj",
        "colab_type": "code",
        "colab": {
          "base_uri": "https://localhost:8080/",
          "height": 34
        },
        "outputId": "ffb207cd-6fa6-4dea-d949-8feb92f15cbf"
      },
      "source": [
        "testX.shape"
      ],
      "execution_count": null,
      "outputs": [
        {
          "output_type": "execute_result",
          "data": {
            "text/plain": [
              "(84, 224, 224, 3)"
            ]
          },
          "metadata": {
            "tags": []
          },
          "execution_count": 69
        }
      ]
    },
    {
      "cell_type": "code",
      "metadata": {
        "id": "0qF0oTcbONL2",
        "colab_type": "code",
        "colab": {
          "base_uri": "https://localhost:8080/",
          "height": 265
        },
        "outputId": "0d0b48ce-eda8-4b5e-daaa-a0aaaf86179c"
      },
      "source": [
        "# loss\n",
        "plt.plot(r.history['loss'], label='train loss')\n",
        "plt.plot(r.history['val_loss'], label='val loss')\n",
        "plt.legend()\n",
        "plt.show()"
      ],
      "execution_count": null,
      "outputs": [
        {
          "output_type": "display_data",
          "data": {
            "image/png": "[encoded data removed]",
            "text/plain": [
              "<Figure size 432x288 with 1 Axes>"
            ]
          },
          "metadata": {
            "tags": [],
            "needs_background": "light"
          }
        }
      ]
    },
    {
      "cell_type": "code",
      "metadata": {
        "id": "KqZSyx-LwVTr",
        "colab_type": "code",
        "colab": {}
      },
      "source": [
        ""
      ],
      "execution_count": null,
      "outputs": []
    },
    {
      "cell_type": "code",
      "metadata": {
        "id": "yTns01LsOTVA",
        "colab_type": "code",
        "colab": {
          "base_uri": "https://localhost:8080/",
          "height": 265
        },
        "outputId": "34b8932f-1e24-4767-eadf-4a894bae24b9"
      },
      "source": [
        "plt.plot(r.history['accuracy'],label='train accuracy')\n",
        "plt.plot(r.history['val_accuracy'], label='val_accuracy')\n",
        "plt.legend()\n",
        "plt.show()"
      ],
      "execution_count": null,
      "outputs": [
        {
          "output_type": "display_data",
          "data": {
            "image/png": "[encoded data removed]",
            "text/plain": [
              "<Figure size 432x288 with 1 Axes>"
            ]
          },
          "metadata": {
            "tags": [],
            "needs_background": "light"
          }
        }
      ]
    },
    {
      "cell_type": "code",
      "metadata": {
        "id": "ky2ygtWKPtVn",
        "colab_type": "code",
        "colab": {}
      },
      "source": [
        "# Plot Confusion matrix\n",
        "from sklearn.metrics import confusion_matrix\n",
        "import itertools\n",
        "\n",
        "def plot_confusion_matrix(cm,classes,\n",
        "                          normalize=False,\n",
        "                          title='confusion_matrix',\n",
        "                          cmap=plt.cm.Blues):\n",
        "  \n",
        "  if normalize:\n",
        "    cm = cm.astype('float')/cm.sum(axis=1)[:np.newaxis]\n",
        "    print('Normalized Confusion Matrix')\n",
        "  else:\n",
        "    print('Confusion matrix, without normalization')\n",
        "\n",
        "  print(cm)\n",
        "\n",
        "  plt.imshow(cm, interpolation='nearest', cmap=cmap)\n",
        "  plt.title(title)\n",
        "  plt.colorbar()\n",
        "  tick_marks=np.arange(len(classes))\n",
        "  plt.xticks(tick_marks, classes, rotation=45)\n",
        "  plt.yticks(tick_marks, classes)\n",
        "  \n",
        "\n",
        "\n",
        "  fmt= '.2f' if normalize else 'd'\n",
        "  thresh = cm.max() / 2.\n",
        "  for i, j in itertools.product(range(cm.shape[0]), range(cm.shape[1])):\n",
        "      plt.text(j, i, format(cm[i, j], fmt),\n",
        "               horizontalalignment=\"center\",\n",
        "               color=\"white\" if cm[i, j] > thresh else \"black\")\n",
        "\n",
        "  plt.tight_layout()\n",
        "  plt.ylabel('True label')\n",
        "  plt.xlabel('Predicted label')\n",
        "  plt.show()\n",
        "\n",
        "\n",
        "\n"
      ],
      "execution_count": null,
      "outputs": []
    },
    {
      "cell_type": "code",
      "metadata": {
        "id": "rOZlyBlOgDwG",
        "colab_type": "code",
        "colab": {
          "base_uri": "https://localhost:8080/",
          "height": 362
        },
        "outputId": "77f9f0ec-73d2-4a5c-aaf0-dfdfe5002db7"
      },
      "source": [
        "p_test = model.predict(testX).argmax(axis=1)\n",
        "testY = testY.argmax(axis=1)\n",
        "cm = confusion_matrix(testY, p_test)\n",
        "plot_confusion_matrix(cm, list(range(2)))"
      ],
      "execution_count": null,
      "outputs": [
        {
          "output_type": "stream",
          "text": [
            "Confusion matrix, without normalization\n",
            "[[40  1]\n",
            " [ 0 43]]\n"
          ],
          "name": "stdout"
        },
        {
          "output_type": "display_data",
          "data": {
            "image/png": "[encoded data removed]",
            "text/plain": [
              "<Figure size 432x288 with 2 Axes>"
            ]
          },
          "metadata": {
            "tags": [],
            "needs_background": "light"
          }
        }
      ]
    },
    {
      "cell_type": "code",
      "metadata": {
        "id": "jryE6QBU_pwn",
        "colab_type": "code",
        "colab": {
          "base_uri": "https://localhost:8080/",
          "height": 102
        },
        "outputId": "72172248-da95-4387-c2ef-15e2a4fded2e"
      },
      "source": [
        "cm = confusion_matrix(testY, p_test)\n",
        "total = sum(sum(cm))\n",
        "acc = (cm[0, 0] + cm[1, 1]) / total\n",
        "sensitivity = cm[0, 0] / (cm[0, 0] + cm[0, 1])\n",
        "specificity = cm[1, 1] / (cm[1, 0] + cm[1, 1])\n",
        "# show the confusion matrix, accuracy, sensitivity, and specificity\n",
        "print(cm)\n",
        "print(\"acc: {:.4f}\".format(acc))\n",
        "print(\"sensitivity: {:.4f}\".format(sensitivity))\n",
        "print(\"specificity: {:.4f}\".format(specificity))"
      ],
      "execution_count": null,
      "outputs": [
        {
          "output_type": "stream",
          "text": [
            "[[40  1]\n",
            " [ 0 43]]\n",
            "acc: 0.9881\n",
            "sensitivity: 0.9756\n",
            "specificity: 1.0000\n"
          ],
          "name": "stdout"
        }
      ]
    },
    {
      "cell_type": "code",
      "metadata": {
        "id": "3SaMAS0HpZKg",
        "colab_type": "code",
        "colab": {}
      },
      "source": [
        "model.save('covid_model.h5')"
      ],
      "execution_count": null,
      "outputs": []
    }
  ]
}